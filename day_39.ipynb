{
 "cells": [
  {
   "cell_type": "code",
   "execution_count": 2,
   "metadata": {},
   "outputs": [
    {
     "name": "stdout",
     "output_type": "stream",
     "text": [
      "Welcome to AI VIET NAM 2024\n",
      "{'name': <class 'str'>, 'year': <class 'int'>}\n"
     ]
    }
   ],
   "source": [
    "name: str = \"AI VIET NAM\"\n",
    "\n",
    "year: int = 2024\n",
    "\n",
    "print(f\"Welcome to {name} {year}\")\n",
    "print(__annotations__)"
   ]
  },
  {
   "cell_type": "code",
   "execution_count": 3,
   "metadata": {},
   "outputs": [
    {
     "name": "stdout",
     "output_type": "stream",
     "text": [
      "Collecting mypy\n",
      "  Downloading mypy-1.9.0-cp312-cp312-win_amd64.whl.metadata (1.9 kB)\n",
      "Requirement already satisfied: typing-extensions>=4.1.0 in c:\\users\\vanna\\.conda\\envs\\.env\\lib\\site-packages (from mypy) (4.10.0)\n",
      "Collecting mypy-extensions>=1.0.0 (from mypy)\n",
      "  Downloading mypy_extensions-1.0.0-py3-none-any.whl.metadata (1.1 kB)\n",
      "Downloading mypy-1.9.0-cp312-cp312-win_amd64.whl (9.3 MB)\n",
      "   ---------------------------------------- 0.0/9.3 MB ? eta -:--:--\n",
      "   ---------------------------------------- 0.0/9.3 MB ? eta -:--:--\n",
      "   ---------------------------------------- 0.0/9.3 MB 487.6 kB/s eta 0:00:20\n",
      "    --------------------------------------- 0.1/9.3 MB 1.2 MB/s eta 0:00:08\n",
      "   - -------------------------------------- 0.3/9.3 MB 1.9 MB/s eta 0:00:05\n",
      "   -- ------------------------------------- 0.6/9.3 MB 2.8 MB/s eta 0:00:04\n",
      "   ---- ----------------------------------- 1.1/9.3 MB 4.1 MB/s eta 0:00:02\n",
      "   --------- ------------------------------ 2.1/9.3 MB 7.1 MB/s eta 0:00:02\n",
      "   -------------- ------------------------- 3.5/9.3 MB 9.6 MB/s eta 0:00:01\n",
      "   ---------------------- ----------------- 5.3/9.3 MB 13.0 MB/s eta 0:00:01\n",
      "   ------------------------------ --------- 7.0/9.3 MB 15.5 MB/s eta 0:00:01\n",
      "   ------------------------------------- -- 8.7/9.3 MB 17.9 MB/s eta 0:00:01\n",
      "   ---------------------------------------- 9.3/9.3 MB 17.5 MB/s eta 0:00:00\n",
      "Downloading mypy_extensions-1.0.0-py3-none-any.whl (4.7 kB)\n",
      "Installing collected packages: mypy-extensions, mypy\n",
      "Successfully installed mypy-1.9.0 mypy-extensions-1.0.0\n"
     ]
    }
   ],
   "source": [
    "!pip install mypy"
   ]
  },
  {
   "cell_type": "markdown",
   "metadata": {},
   "source": [
    "![Code](day_39_code.png)"
   ]
  }
 ],
 "metadata": {
  "kernelspec": {
   "display_name": ".env",
   "language": "python",
   "name": "python3"
  },
  "language_info": {
   "codemirror_mode": {
    "name": "ipython",
    "version": 3
   },
   "file_extension": ".py",
   "mimetype": "text/x-python",
   "name": "python",
   "nbconvert_exporter": "python",
   "pygments_lexer": "ipython3",
   "version": "3.12.1"
  }
 },
 "nbformat": 4,
 "nbformat_minor": 2
}
