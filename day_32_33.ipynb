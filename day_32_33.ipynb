{
 "cells": [
  {
   "cell_type": "markdown",
   "metadata": {},
   "source": [
    "| Question      |01|02| 03 | 04 | 05 | 06 | 07 | 08 | 09 | 10 | 11 | \n",
    "| ----------- | ----------- | ----------- | -----------| ----------- | -----------| ----------- | -----------| ----------- | -----------| ----------- | ----------- |\n",
    "| Answer      |B|B|A|A|A|B|A|C|C|A|A| "
   ]
  },
  {
   "cell_type": "markdown",
   "metadata": {},
   "source": [
    "| Question      | 12 | 13 | 14 | 15 | 16 | 17 | 18 | 19 | 20 | 21 | 22 | \n",
    "| ----------- | ----------- | ----------- | -----------| ----------- | -----------| ----------- | -----------| ----------- | -----------| ----------- | ----------- |\n",
    "| Answer       |D|B|C|A|B|A|C|A|C|D|C| "
   ]
  },
  {
   "cell_type": "markdown",
   "metadata": {},
   "source": [
    "| Question      | 23 | 24 | 25 | 26 | 27 | 28 | 29 | 30 | 31 | 32 | 33 | \n",
    "| ----------- | ----------- | ----------- | -----------| ----------- | -----------| ----------- | -----------| ----------- | -----------| ----------- | ----------- |\n",
    "| Answer       |A|A|B|A|A|C|A|A|B|C|A|"
   ]
  },
  {
   "cell_type": "code",
   "execution_count": 33,
   "metadata": {},
   "outputs": [
    {
     "name": "stdout",
     "output_type": "stream",
     "text": [
      "[9, 8, 1]\n"
     ]
    }
   ],
   "source": [
    "def function_helper (x , data ) :\n",
    "    for i in data :\n",
    "        if x == i :\n",
    "            return 0\n",
    "\n",
    "    return 1\n",
    "\n",
    "def my_function ( data ) :\n",
    "    res = []\n",
    "    for i in data :\n",
    "        if function_helper (i , res ) :\n",
    "            res . append ( i )\n",
    "\n",
    "    return res  \n",
    "\n",
    "lst = [9 , 9 , 8 , 1 , 1]\n",
    "print ( my_function ( lst ) )"
   ]
  }
 ],
 "metadata": {
  "kernelspec": {
   "display_name": ".env",
   "language": "python",
   "name": "python3"
  },
  "language_info": {
   "codemirror_mode": {
    "name": "ipython",
    "version": 3
   },
   "file_extension": ".py",
   "mimetype": "text/x-python",
   "name": "python",
   "nbconvert_exporter": "python",
   "pygments_lexer": "ipython3",
   "version": "3.12.1"
  }
 },
 "nbformat": 4,
 "nbformat_minor": 2
}
