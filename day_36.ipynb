{
 "cells": [
  {
   "cell_type": "code",
   "execution_count": 1,
   "metadata": {},
   "outputs": [],
   "source": [
    "import sqlite3\n",
    "import pandas as pd"
   ]
  },
  {
   "cell_type": "code",
   "execution_count": 2,
   "metadata": {},
   "outputs": [],
   "source": [
    "connection = sqlite3.connect(\"database.sqlite\")\n",
    "cursor = connection.cursor()"
   ]
  },
  {
   "cell_type": "code",
   "execution_count": 3,
   "metadata": {},
   "outputs": [],
   "source": [
    "cursor.execute(\n",
    "    \"\"\"CREATE TABLE STOCK (\n",
    "    id INT PRIMARY KEY,\n",
    "    name TEXT NOT NULL,\n",
    "    buy INT NOT NULL,\n",
    "    investor TEXT NOT NULL\n",
    ") ;\"\"\"\n",
    ")\n",
    "\n",
    "connection.commit()"
   ]
  },
  {
   "cell_type": "code",
   "execution_count": 7,
   "metadata": {},
   "outputs": [],
   "source": [
    "cursor.execute(\n",
    "    \"\"\"INSERT INTO STOCK (id, name, buy, investor) VALUES \n",
    "    (1, 'ACB', 29.45, 'Nam'),\n",
    "    (2, 'VIC', 44.55, 'Nam'),\n",
    "    (3, 'GMD', 74.30, 'Nam'),\n",
    "    (4, 'ACB', 28.45, 'An'),\n",
    "    (5, 'VIC', 40.55, 'An'),\n",
    "    (6, 'GMD', 60.30, 'An')\n",
    "\"\"\"\n",
    ")\n",
    "\n",
    "connection.commit()"
   ]
  },
  {
   "cell_type": "code",
   "execution_count": 9,
   "metadata": {},
   "outputs": [
    {
     "name": "stdout",
     "output_type": "stream",
     "text": [
      "   sum(buy)\n",
      "0     277.6\n"
     ]
    }
   ],
   "source": [
    "data_sum = pd.read_sql_query(\"select sum(buy) from STOCK\", connection)\n",
    "print(data_sum)"
   ]
  },
  {
   "cell_type": "code",
   "execution_count": 15,
   "metadata": {},
   "outputs": [
    {
     "name": "stdout",
     "output_type": "stream",
     "text": [
      "  investor  MAX_PRICE\n",
      "0      Nam       74.3\n",
      "1       An       60.3\n"
     ]
    }
   ],
   "source": [
    "data = pd.read_sql_query(\n",
    "    \"select investor, max(buy) as 'MAX_PRICE' from STOCK group by investor order by 'MAX_PRICE' desc \", connection\n",
    ")\n",
    "print(data)"
   ]
  }
 ],
 "metadata": {
  "kernelspec": {
   "display_name": ".env",
   "language": "python",
   "name": "python3"
  },
  "language_info": {
   "codemirror_mode": {
    "name": "ipython",
    "version": 3
   },
   "file_extension": ".py",
   "mimetype": "text/x-python",
   "name": "python",
   "nbconvert_exporter": "python",
   "pygments_lexer": "ipython3",
   "version": "3.12.1"
  }
 },
 "nbformat": 4,
 "nbformat_minor": 2
}
