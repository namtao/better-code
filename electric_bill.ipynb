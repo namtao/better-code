{
 "cells": [
  {
   "cell_type": "markdown",
   "metadata": {},
   "source": [
    "# Better Code"
   ]
  },
  {
   "cell_type": "markdown",
   "metadata": {},
   "source": [
    "## Tính tiền điện theo khoảng giá luỹ kế"
   ]
  },
  {
   "cell_type": "code",
   "execution_count": 1,
   "metadata": {},
   "outputs": [
    {
     "name": "stdout",
     "output_type": "stream",
     "text": [
      "6\n",
      "1484 - 50\n",
      "1533 - 50\n",
      "1786 - 100\n",
      "2242 - 100\n",
      "2503 - 100\n",
      "1062650\n"
     ]
    }
   ],
   "source": [
    "so_dien = 500\n",
    "\n",
    "lst_muc = [0, 50,    100,  200,  300,  400,]\n",
    "lst_gia = [1484, 1533, 1786, 2242, 2503, 2587]\n",
    "\n",
    "count = 0\n",
    "for v in lst_muc:\n",
    "  if(so_dien <= v):\n",
    "    break\n",
    "  else:\n",
    "    count+=1\n",
    "    \n",
    "print(count)\n",
    "\n",
    "if(count >= len(lst_muc)):\n",
    "    count = len(lst_muc) - 1\n",
    "\n",
    "so_dien_le = abs(lst_muc[count] - so_dien)\n",
    "\n",
    "kq = 0\n",
    "for i in range(count):\n",
    "    # sum += lst_muc[i+1] - lst_muc[i]\n",
    "    kq += lst_gia[i] * (lst_muc[i+1] - lst_muc[i])\n",
    "    print(f'{lst_gia[i]} - {lst_muc[i+1] - lst_muc[i]}')\n",
    "    \n",
    "kq += so_dien_le * lst_gia[count]\n",
    "print(kq)"
   ]
  }
 ],
 "metadata": {
  "kernelspec": {
   "display_name": ".env",
   "language": "python",
   "name": "python3"
  },
  "language_info": {
   "codemirror_mode": {
    "name": "ipython",
    "version": 3
   },
   "file_extension": ".py",
   "mimetype": "text/x-python",
   "name": "python",
   "nbconvert_exporter": "python",
   "pygments_lexer": "ipython3",
   "version": "3.12.1"
  }
 },
 "nbformat": 4,
 "nbformat_minor": 2
}
