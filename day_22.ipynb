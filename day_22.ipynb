{
 "cells": [
  {
   "cell_type": "code",
   "execution_count": 15,
   "metadata": {},
   "outputs": [],
   "source": [
    "import random\n",
    "def random_number_with_condition(total):\n",
    "    random.seed(0)\n",
    "    # a = random.randint(1, 20)\n",
    "    # b = random.randint(1, 20)\n",
    "    a, b = 0, 0\n",
    "    count = 0\n",
    "    while (a + b) != total:    \n",
    "        count+=1    \n",
    "        a = random.randint(1, 20)\n",
    "        b = random.randint(1, 20)\n",
    "    return count"
   ]
  },
  {
   "cell_type": "code",
   "execution_count": 18,
   "metadata": {},
   "outputs": [
    {
     "data": {
      "text/plain": [
       "32"
      ]
     },
     "execution_count": 18,
     "metadata": {},
     "output_type": "execute_result"
    }
   ],
   "source": [
    "random_number_with_condition(20)"
   ]
  },
  {
   "cell_type": "code",
   "execution_count": 24,
   "metadata": {},
   "outputs": [],
   "source": [
    "def find_divisible_number(a):\n",
    "    x = 101\n",
    "    while x % a != 0:\n",
    "        x+=1\n",
    "    return x"
   ]
  },
  {
   "cell_type": "code",
   "execution_count": 25,
   "metadata": {},
   "outputs": [
    {
     "data": {
      "text/plain": [
       "105"
      ]
     },
     "execution_count": 25,
     "metadata": {},
     "output_type": "execute_result"
    }
   ],
   "source": [
    "find_divisible_number(5)"
   ]
  },
  {
   "cell_type": "code",
   "execution_count": 26,
   "metadata": {},
   "outputs": [
    {
     "data": {
      "text/plain": [
       "102"
      ]
     },
     "execution_count": 26,
     "metadata": {},
     "output_type": "execute_result"
    }
   ],
   "source": [
    "find_divisible_number(17)"
   ]
  },
  {
   "cell_type": "code",
   "execution_count": 33,
   "metadata": {},
   "outputs": [],
   "source": [
    "def find_squared_root(a):\n",
    "    EPSILON = 0.01\n",
    "    def compute(xn):\n",
    "        fx = xn*xn - a\n",
    "        dfx = 2 * xn\n",
    "        \n",
    "        xn1 = xn - (fx/dfx)\n",
    "        \n",
    "        if abs(xn1 - xn) < EPSILON:\n",
    "            return xn1\n",
    "        else:\n",
    "            return compute(xn1)\n",
    "            \n",
    "    return compute(a)"
   ]
  },
  {
   "cell_type": "code",
   "execution_count": 35,
   "metadata": {},
   "outputs": [
    {
     "name": "stdout",
     "output_type": "stream",
     "text": [
      "1.4142156862745099\n",
      "1.7320508100147276\n"
     ]
    }
   ],
   "source": [
    "print(find_squared_root(2))\n",
    "print(find_squared_root(3))"
   ]
  }
 ],
 "metadata": {
  "kernelspec": {
   "display_name": ".env",
   "language": "python",
   "name": "python3"
  },
  "language_info": {
   "codemirror_mode": {
    "name": "ipython",
    "version": 3
   },
   "file_extension": ".py",
   "mimetype": "text/x-python",
   "name": "python",
   "nbconvert_exporter": "python",
   "pygments_lexer": "ipython3",
   "version": "3.12.1"
  }
 },
 "nbformat": 4,
 "nbformat_minor": 2
}
