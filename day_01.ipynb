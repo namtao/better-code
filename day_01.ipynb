{
 "cells": [
  {
   "cell_type": "code",
   "execution_count": 1,
   "metadata": {},
   "outputs": [
    {
     "name": "stdout",
     "output_type": "stream",
     "text": [
      "2024 là năm Giáp Thìn\n",
      "2023 là năm Quý Mẹo\n",
      "1997 là năm Đinh Sửu\n"
     ]
    }
   ],
   "source": [
    "lst_can = ['Canh', 'Tân', 'Nhâm', 'Quý', 'Giáp', 'Ất', 'Bính', 'Đinh', 'Mậu', 'Kỷ']\n",
    "lst_chi = ['Thân', 'Dậu', 'Tuất', 'Hợi', 'Tý', 'Sửu', 'Dần', 'Mẹo', 'Thìn', 'Tỵ', 'Ngọ', 'Mùi']\n",
    "\n",
    "nam = 2024\n",
    "def can_chi(nam: int):\n",
    "    print(f'{nam} là năm {lst_can[nam%10]} {lst_chi[nam%12]}')\n",
    "    \n",
    "can_chi(2024)\n",
    "can_chi(2023)\n",
    "can_chi(1997)"
   ]
  }
 ],
 "metadata": {
  "kernelspec": {
   "display_name": ".env",
   "language": "python",
   "name": "python3"
  },
  "language_info": {
   "codemirror_mode": {
    "name": "ipython",
    "version": 3
   },
   "file_extension": ".py",
   "mimetype": "text/x-python",
   "name": "python",
   "nbconvert_exporter": "python",
   "pygments_lexer": "ipython3",
   "version": "3.12.1"
  }
 },
 "nbformat": 4,
 "nbformat_minor": 2
}
