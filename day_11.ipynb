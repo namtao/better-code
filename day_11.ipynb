{
 "cells": [
  {
   "cell_type": "code",
   "execution_count": 5,
   "metadata": {},
   "outputs": [
    {
     "name": "stdout",
     "output_type": "stream",
     "text": [
      "['Tôi', 'âm', 'nhạc', 'Toán', 'môn', 'thích', 'AI']\n"
     ]
    }
   ],
   "source": [
    "corpus = [\"Tôi thích môn Toán\", \"Tôi thích AI\", \"Tôi thích âm nhạc\"]\n",
    "\n",
    "lst = []\n",
    "\n",
    "for i in corpus:\n",
    "    lst.extend(i.split())\n",
    "    \n",
    "lst = \" \".join(set(lst))\n",
    "\n",
    "lst = lst.split()\n",
    "print(lst)"
   ]
  },
  {
   "cell_type": "code",
   "execution_count": 6,
   "metadata": {},
   "outputs": [
    {
     "name": "stdout",
     "output_type": "stream",
     "text": [
      "['Tôi', 'thích', 'AI', 'thích', 'Toán']\n"
     ]
    }
   ],
   "source": [
    "lst_vector = \"Tôi thích AI thích Toán\".split()\n",
    "print(lst_vector)"
   ]
  },
  {
   "cell_type": "code",
   "execution_count": 9,
   "metadata": {},
   "outputs": [
    {
     "name": "stdout",
     "output_type": "stream",
     "text": [
      "[1, 0, 0, 1, 0, 2, 1]\n"
     ]
    }
   ],
   "source": [
    "lst_bow = [0] * len(lst)\n",
    "\n",
    "for i in lst_vector:\n",
    "    if(i in lst):\n",
    "        for index, value in enumerate(lst):\n",
    "            if(i == value):\n",
    "                lst_bow[index] +=1\n",
    "                \n",
    "print(lst_bow)\n",
    "        "
   ]
  }
 ],
 "metadata": {
  "kernelspec": {
   "display_name": ".env",
   "language": "python",
   "name": "python3"
  },
  "language_info": {
   "codemirror_mode": {
    "name": "ipython",
    "version": 3
   },
   "file_extension": ".py",
   "mimetype": "text/x-python",
   "name": "python",
   "nbconvert_exporter": "python",
   "pygments_lexer": "ipython3",
   "version": "3.12.1"
  }
 },
 "nbformat": 4,
 "nbformat_minor": 2
}
