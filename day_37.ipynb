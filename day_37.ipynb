{
 "cells": [
  {
   "cell_type": "code",
   "execution_count": 1,
   "metadata": {},
   "outputs": [
    {
     "name": "stdout",
     "output_type": "stream",
     "text": [
      "Collecting pypdf\n",
      "  Downloading pypdf-4.2.0-py3-none-any.whl.metadata (7.4 kB)\n",
      "Downloading pypdf-4.2.0-py3-none-any.whl (290 kB)\n",
      "   ---------------------------------------- 0.0/290.4 kB ? eta -:--:--\n",
      "   - -------------------------------------- 10.2/290.4 kB ? eta -:--:--\n",
      "   ---- ---------------------------------- 30.7/290.4 kB 660.6 kB/s eta 0:00:01\n",
      "   ------------ -------------------------- 92.2/290.4 kB 871.5 kB/s eta 0:00:01\n",
      "   ---------------------------- ----------- 204.8/290.4 kB 1.4 MB/s eta 0:00:01\n",
      "   ---------------------------------------- 290.4/290.4 kB 1.6 MB/s eta 0:00:00\n",
      "Installing collected packages: pypdf\n",
      "Successfully installed pypdf-4.2.0\n"
     ]
    }
   ],
   "source": [
    "!pip install pypdf"
   ]
  },
  {
   "cell_type": "code",
   "execution_count": 5,
   "metadata": {},
   "outputs": [
    {
     "name": "stdout",
     "output_type": "stream",
     "text": [
      "18\n",
      "YOLOv9: Learning What You Want to Learn\n",
      "Using Programmable Gradient Information\n",
      "Chien-Yao Wang1,2, I-Hau Yeh2, and Hong-Yuan Mark Liao1,2,3\n",
      "1Institute of Information Science, Academia Sinica, Taiwan\n",
      "2National Taipei University of Technology, Taiwan\n",
      "3Department of Information and Computer Engineering, Chung Yuan Christian University, Taiwan\n",
      "kinyiu@iis.sinica.edu.tw, ihyeh@emc.com.tw, and liao@iis.sinica.edu.tw\n",
      "Abstract\n",
      "Today’s deep learning methods focus on how to design\n",
      "the most appropriate objective functions so that the pre-\n",
      "diction results of the model can be closest to the ground\n",
      "truth. Meanwhile, an appropriate architecture that can\n",
      "facilitate acquisition of enough information for prediction\n",
      "has to be designed. Existing methods ignore a fact that\n",
      "when input data undergoes layer-by-layer feature extrac-\n",
      "tion and spatial transformation, large amount of informa-\n",
      "tion will be lost. This paper will delve into the important is-\n",
      "sues of data loss when data is transmitted through deep net-\n",
      "works, namely information bottleneck and reversible func-\n",
      "tions. We proposed the concept of programmable gradi-\n",
      "ent information (PGI) to cope with the various changes\n",
      "required by deep networks to achieve multiple objectives.\n",
      "PGI can provide complete input information for the tar-\n",
      "get task to calculate objective function, so that reliable\n",
      "gradient information can be obtained to update network\n",
      "weights. In addition, a new lightweight network architec-\n",
      "ture – Generalized Efficient Layer Aggregation Network\n",
      "(GELAN), based on gradient path planning is designed.\n",
      "GELAN’s architecture confirms that PGI has gained su-\n",
      "perior results on lightweight models. We verified the pro-\n",
      "posed GELAN and PGI on MS COCO dataset based ob-\n",
      "ject detection. The results show that GELAN only uses\n",
      "conventional convolution operators to achieve better pa-\n",
      "rameter utilization than the state-of-the-art methods devel-\n",
      "oped based on depth-wise convolution. PGI can be used\n",
      "for variety of models from lightweight to large. It can be\n",
      "used to obtain complete information, so that train-from-\n",
      "scratch models can achieve better results than state-of-the-\n",
      "art models pre-trained using large datasets, the compari-\n",
      "son results are shown in Figure 1. The source codes are at:\n",
      "https://github.com/WongKinYiu/yolov9 .\n",
      "1. Introduction\n",
      "Deep learning-based models have demonstrated far bet-\n",
      "ter performance than past artificial intelligence systems in\n",
      "various fields, such as computer vision, language process-\n",
      "ing, and speech recognition. In recent years, researchers\n",
      "Figure 1. Comparisons of the real-time object detecors on MS\n",
      "COCO dataset. The GELAN and PGI-based object detection\n",
      "method surpassed all previous train-from-scratch methods in terms\n",
      "of object detection performance. In terms of accuracy, the new\n",
      "method outperforms RT DETR [43] pre-trained with a large\n",
      "dataset, and it also outperforms depth-wise convolution-based de-\n",
      "sign YOLO MS [7] in terms of parameters utilization.\n",
      "in the field of deep learning have mainly focused on how\n",
      "to develop more powerful system architectures and learn-\n",
      "ing methods, such as CNNs [21–23, 42, 55, 71, 72], Trans-\n",
      "formers [8, 9, 40, 41, 60, 69, 70], Perceivers [26, 26, 32, 52,\n",
      "56, 81, 81], and Mambas [17, 38, 80]. In addition, some\n",
      "researchers have tried to develop more general objective\n",
      "functions, such as loss function [5, 45, 46, 50, 77, 78], la-\n",
      "bel assignment [10, 12, 33, 67, 79] and auxiliary supervi-\n",
      "sion [18, 20, 24, 28, 29, 51, 54, 68, 76]. The above studies\n",
      "all try to precisely find the mapping between input and tar-\n",
      "get tasks. However, most past approaches have ignored that\n",
      "input data may have a non-negligible amount of informa-\n",
      "tion loss during the feedforward process. This loss of in-\n",
      "formation can lead to biased gradient flows, which are sub-\n",
      "sequently used to update the model. The above problems\n",
      "can result in deep networks to establish incorrect associa-\n",
      "tions between targets and inputs, causing the trained model\n",
      "to produce incorrect predictions.\n",
      "1arXiv:2402.13616v2  [cs.CV]  29 Feb 2024\n"
     ]
    }
   ],
   "source": [
    "from pypdf import PdfReader\n",
    "\n",
    "reader = PdfReader(r'../sources/yolo.pdf')\n",
    "\n",
    "num_pages = len(reader.pages)\n",
    "print(num_pages)\n",
    "\n",
    "page_1 = reader.pages[0]\n",
    "page_1_txt = page_1.extract_text()\n",
    "# print(page_1)\n",
    "pages_txt = ''\n",
    "\n",
    "for i in range(num_pages):\n",
    "    page = reader.pages[i]\n",
    "    pages_txt += page.extract_text() + \"\\n\"\n",
    "    \n",
    "print(page_1_txt)\n"
   ]
  },
  {
   "cell_type": "code",
   "execution_count": 7,
   "metadata": {},
   "outputs": [],
   "source": [
    "count = 0\n",
    "\n",
    "for page in reader.pages:\n",
    "    for image_file_object in page.images:\n",
    "        with open(str(count) + image_file_object.name, \"wb\") as fp:\n",
    "            fp.write(image_file_object.data)\n",
    "            count+=1"
   ]
  },
  {
   "cell_type": "code",
   "execution_count": 8,
   "metadata": {},
   "outputs": [],
   "source": [
    "from pypdf import PdfWriter\n",
    "\n",
    "writer = PdfWriter(clone_from = '../sources/yolo.pdf')\n",
    "\n",
    "for page  in writer.pages:\n",
    "    page.compress_content_streams(level = 8)\n",
    "    \n",
    "with open(\"out.pdf\", \"wb\") as f:\n",
    "    writer.write(f)"
   ]
  }
 ],
 "metadata": {
  "kernelspec": {
   "display_name": ".env",
   "language": "python",
   "name": "python3"
  },
  "language_info": {
   "codemirror_mode": {
    "name": "ipython",
    "version": 3
   },
   "file_extension": ".py",
   "mimetype": "text/x-python",
   "name": "python",
   "nbconvert_exporter": "python",
   "pygments_lexer": "ipython3",
   "version": "3.12.1"
  }
 },
 "nbformat": 4,
 "nbformat_minor": 2
}
