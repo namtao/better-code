{
 "cells": [
  {
   "cell_type": "code",
   "execution_count": 2,
   "metadata": {},
   "outputs": [],
   "source": [
    "import numpy as np\n",
    "import random\n",
    "import tensorflow as tf\n",
    "import torch"
   ]
  },
  {
   "cell_type": "code",
   "execution_count": 5,
   "metadata": {},
   "outputs": [
    {
     "name": "stdout",
     "output_type": "stream",
     "text": [
      "[0 1 2 3 4 5 6 7 8 9]\n",
      "tensor([0, 1, 2, 3, 4, 5, 6, 7, 8, 9])\n",
      "tf.Tensor([0 1 2 3 4 5 6 7 8 9], shape=(10,), dtype=int32)\n"
     ]
    }
   ],
   "source": [
    "print(np.arange(10))\n",
    "print(torch.arange(10))\n",
    "print(tf.range(10))"
   ]
  },
  {
   "cell_type": "code",
   "execution_count": 7,
   "metadata": {},
   "outputs": [
    {
     "name": "stdout",
     "output_type": "stream",
     "text": [
      "[[1. 0. 0.]\n",
      " [0. 1. 0.]\n",
      " [0. 0. 1.]]\n",
      "tensor([[1., 0., 0.],\n",
      "        [0., 1., 0.],\n",
      "        [0., 0., 1.]])\n",
      "tf.Tensor(\n",
      "[[1. 0. 0.]\n",
      " [0. 1. 0.]\n",
      " [0. 0. 1.]], shape=(3, 3), dtype=float32)\n"
     ]
    }
   ],
   "source": [
    "print(np.eye(3))\n",
    "print(torch.eye(3))\n",
    "print(tf.eye(3))"
   ]
  },
  {
   "cell_type": "code",
   "execution_count": 9,
   "metadata": {},
   "outputs": [
    {
     "name": "stdout",
     "output_type": "stream",
     "text": [
      "[[0.58801452 0.69910875 0.18815196 0.04380856]\n",
      " [0.20501895 0.10606287 0.72724014 0.67940052]\n",
      " [0.4738457  0.44829582 0.01910695 0.75259834]]\n",
      "[[ 5  1 -3  8]\n",
      " [-1 -4  0 -9]\n",
      " [-5  9 -6 -2]]\n"
     ]
    }
   ],
   "source": [
    "np.random.seed(2024)\n",
    "\n",
    "arr_rand = np.random.rand(3,4)\n",
    "print(arr_rand)\n",
    "\n",
    "arr_randint = np.random.randint(-10, 10, size = (3,4))\n",
    "print(arr_randint)"
   ]
  },
  {
   "cell_type": "code",
   "execution_count": 11,
   "metadata": {},
   "outputs": [
    {
     "name": "stdout",
     "output_type": "stream",
     "text": [
      "tensor([[0.5317, 0.8313, 0.9718, 0.1193],\n",
      "        [0.1669, 0.3495, 0.2150, 0.6201],\n",
      "        [0.4849, 0.7492, 0.1521, 0.5625]])\n",
      "tensor([[  1,   8,   0,  -2],\n",
      "        [ -9, -10,  -9,   0],\n",
      "        [ -3,  -7,  -4,   8]])\n"
     ]
    }
   ],
   "source": [
    "torch.manual_seed(2024)\n",
    "\n",
    "print(torch.rand(3,4))\n",
    "print(torch.randint(-10, 10, size = (3, 4)))"
   ]
  },
  {
   "cell_type": "code",
   "execution_count": 16,
   "metadata": {},
   "outputs": [
    {
     "name": "stdout",
     "output_type": "stream",
     "text": [
      "tf.Tensor(\n",
      "[[0.90034294 0.19453335 0.36069036 0.66361904]\n",
      " [0.76605344 0.2159369  0.6261736  0.07380784]\n",
      " [0.22062695 0.934368   0.93327904 0.69267046]], shape=(3, 4), dtype=float32)\n",
      "tf.Tensor(\n",
      "[[-3 -7  9  3]\n",
      " [ 2 -5 -3 -5]\n",
      " [ 4 -3 -3  5]], shape=(3, 4), dtype=int32)\n"
     ]
    }
   ],
   "source": [
    "tf.random.set_seed(2024)\n",
    "print(tf.random.uniform((3, 4)))\n",
    "print(tf.random.uniform((3, 4), minval= -10, maxval= 10, dtype=tf.dtypes.int32))"
   ]
  }
 ],
 "metadata": {
  "kernelspec": {
   "display_name": ".env",
   "language": "python",
   "name": "python3"
  },
  "language_info": {
   "codemirror_mode": {
    "name": "ipython",
    "version": 3
   },
   "file_extension": ".py",
   "mimetype": "text/x-python",
   "name": "python",
   "nbconvert_exporter": "python",
   "pygments_lexer": "ipython3",
   "version": "3.12.1"
  }
 },
 "nbformat": 4,
 "nbformat_minor": 2
}
