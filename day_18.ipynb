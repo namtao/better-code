{
 "cells": [
  {
   "cell_type": "code",
   "execution_count": 2,
   "metadata": {},
   "outputs": [
    {
     "name": "stdout",
     "output_type": "stream",
     "text": [
      "['AI', 'listen', 'music']\n"
     ]
    }
   ],
   "source": [
    "stop_word = [\"I\", \"love\", \"and\", \"to\"]\n",
    "\n",
    "input = \"I love AI and listen to music\"\n",
    "\n",
    "print([i for i in input.split() if i not in stop_word])"
   ]
  },
  {
   "cell_type": "code",
   "execution_count": 17,
   "metadata": {},
   "outputs": [
    {
     "name": "stdout",
     "output_type": "stream",
     "text": [
      "(5, 6)\n",
      "(9, 18)\n"
     ]
    }
   ],
   "source": [
    "my_tuple1 = (2, 3)\n",
    "my_tuple2 = (3, 6)\n",
    "\n",
    "x1, y1 = my_tuple1\n",
    "x2, y2 = my_tuple2\n",
    "\n",
    "print((x1+y1, x1*y1))\n",
    "print((x2+y2, x2*y2))"
   ]
  },
  {
   "cell_type": "code",
   "execution_count": 10,
   "metadata": {},
   "outputs": [
    {
     "name": "stdout",
     "output_type": "stream",
     "text": [
      "3.1622776601683795\n"
     ]
    }
   ],
   "source": [
    "import math\n",
    "\n",
    "distance = math.sqrt((1) + 3**2)\n",
    "print(distance)"
   ]
  },
  {
   "cell_type": "code",
   "execution_count": 19,
   "metadata": {},
   "outputs": [
    {
     "name": "stdout",
     "output_type": "stream",
     "text": [
      "(1, 0)\n"
     ]
    }
   ],
   "source": [
    "index = (my_tuple1.index(3), my_tuple2.index(3))\n",
    "print(index)"
   ]
  }
 ],
 "metadata": {
  "kernelspec": {
   "display_name": ".env",
   "language": "python",
   "name": "python3"
  },
  "language_info": {
   "codemirror_mode": {
    "name": "ipython",
    "version": 3
   },
   "file_extension": ".py",
   "mimetype": "text/x-python",
   "name": "python",
   "nbconvert_exporter": "python",
   "pygments_lexer": "ipython3",
   "version": "3.12.1"
  }
 },
 "nbformat": 4,
 "nbformat_minor": 2
}
