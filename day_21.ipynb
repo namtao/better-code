{
 "cells": [
  {
   "cell_type": "code",
   "execution_count": 13,
   "metadata": {},
   "outputs": [
    {
     "name": "stdout",
     "output_type": "stream",
     "text": [
      "he who conquers himself is the mightiest warrior try not to become a man of success but rather become a man of value one man with courage makes a majority one secret of success in life is for a man to be ready for his opportunity when it comes the successful man will profit from his mistakes and try again in a different way a successful man is one who can lay a firm foundation with the bricks others have thrown at him success usually comes to those who are too busy looking for it we cannot solve problems with the kind of thinking we employed when we came up with them just one small positive thought in the morning can change your whole day you can get everything in life you want if you will just help enough other people get what they want\n"
     ]
    }
   ],
   "source": [
    "with open(\"../sources/data.txt\") as f:\n",
    "    data = f.readlines()\n",
    "\n",
    "data = \" \".join(data)\n",
    "data = data.replace(\"\\n\", \"\").lower()\n",
    "print(data)"
   ]
  },
  {
   "cell_type": "code",
   "execution_count": 23,
   "metadata": {},
   "outputs": [
    {
     "name": "stdout",
     "output_type": "stream",
     "text": [
      "['a' 'again' 'and' 'are' 'at' 'be' 'become' 'bricks' 'busy' 'but' 'came'\n",
      " 'can' 'cannot' 'change' 'comes' 'conquers' 'courage' 'day' 'different'\n",
      " 'employed' 'enough' 'everything' 'firm' 'for' 'foundation' 'from' 'get'\n",
      " 'have' 'he' 'help' 'him' 'himself' 'his' 'if' 'in' 'is' 'it' 'just'\n",
      " 'kind' 'lay' 'life' 'looking' 'majority' 'makes' 'man' 'mightiest'\n",
      " 'mistakes' 'morning' 'not' 'of' 'one' 'opportunity' 'other' 'others'\n",
      " 'people' 'positive' 'problems' 'profit' 'rather' 'ready' 'secret' 'small'\n",
      " 'solve' 'success' 'successful' 'the' 'them' 'they' 'thinking' 'those'\n",
      " 'thought' 'thrown' 'to' 'too' 'try' 'up' 'usually' 'value' 'want'\n",
      " 'warrior' 'way' 'we' 'what' 'when' 'who' 'whole' 'will' 'with' 'you'\n",
      " 'your']\n"
     ]
    }
   ],
   "source": [
    "\n",
    "import numpy as np\n",
    "lst_data = data.split()\n",
    "print(np.unique(lst_data))"
   ]
  },
  {
   "cell_type": "code",
   "execution_count": 25,
   "metadata": {},
   "outputs": [
    {
     "name": "stdout",
     "output_type": "stream",
     "text": [
      "Counter({'a': 7, 'man': 6, 'the': 5, 'of': 4, 'one': 4, 'with': 4, 'in': 4, 'who': 3, 'is': 3, 'to': 3, 'success': 3, 'for': 3, 'can': 3, 'we': 3, 'you': 3, 'try': 2, 'become': 2, 'life': 2, 'his': 2, 'when': 2, 'it': 2, 'comes': 2, 'successful': 2, 'will': 2, 'just': 2, 'get': 2, 'want': 2, 'he': 1, 'conquers': 1, 'himself': 1, 'mightiest': 1, 'warrior': 1, 'not': 1, 'but': 1, 'rather': 1, 'value': 1, 'courage': 1, 'makes': 1, 'majority': 1, 'secret': 1, 'be': 1, 'ready': 1, 'opportunity': 1, 'profit': 1, 'from': 1, 'mistakes': 1, 'and': 1, 'again': 1, 'different': 1, 'way': 1, 'lay': 1, 'firm': 1, 'foundation': 1, 'bricks': 1, 'others': 1, 'have': 1, 'thrown': 1, 'at': 1, 'him': 1, 'usually': 1, 'those': 1, 'are': 1, 'too': 1, 'busy': 1, 'looking': 1, 'cannot': 1, 'solve': 1, 'problems': 1, 'kind': 1, 'thinking': 1, 'employed': 1, 'came': 1, 'up': 1, 'them': 1, 'small': 1, 'positive': 1, 'thought': 1, 'morning': 1, 'change': 1, 'your': 1, 'whole': 1, 'day': 1, 'everything': 1, 'if': 1, 'help': 1, 'enough': 1, 'other': 1, 'people': 1, 'what': 1, 'they': 1})\n"
     ]
    }
   ],
   "source": [
    "import collections\n",
    "\n",
    "print(collections.Counter(lst_data))"
   ]
  }
 ],
 "metadata": {
  "kernelspec": {
   "display_name": ".env",
   "language": "python",
   "name": "python3"
  },
  "language_info": {
   "codemirror_mode": {
    "name": "ipython",
    "version": 3
   },
   "file_extension": ".py",
   "mimetype": "text/x-python",
   "name": "python",
   "nbconvert_exporter": "python",
   "pygments_lexer": "ipython3",
   "version": "3.12.1"
  }
 },
 "nbformat": 4,
 "nbformat_minor": 2
}
