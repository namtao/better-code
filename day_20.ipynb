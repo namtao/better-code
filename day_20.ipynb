{
 "cells": [
  {
   "cell_type": "code",
   "execution_count": null,
   "metadata": {},
   "outputs": [],
   "source": [
    "!pip install newspaper3k\n",
    "!pip install nltk"
   ]
  },
  {
   "cell_type": "code",
   "execution_count": 2,
   "metadata": {},
   "outputs": [
    {
     "name": "stdout",
     "output_type": "stream",
     "text": [
      "Tổng thống Biden đề xuất chi ngân sách liên bang khôi phục cầu Francis Scott Key bị tàu container đâm sập, nhưng quốc hội cho rằng đây là trách nhiệm của chính quyền bang.\n",
      "\n",
      "Chỉ vài giờ sau khi cầu Francis Scott Key đổ sập dưới sức nặng của tàu container khổng lồ hôm 26/3, Tổng thống Joe Biden tuyên bố chính phủ Mỹ sẽ trang trải chi phí để xây dựng lại công trình huyết mạch này. Cầu Francis Scott Key kết nối với cảng Baltimore ở bang Maryland, một trong những tuyến vận chuyển hàng hóa nhộn nhịp Bờ Đông nước Mỹ.\n",
      "\n",
      "Đề xuất của Tổng thống Biden đã nhận được lời khen ngợi từ một số đảng viên Dân chủ, đặc biệt là các nghị sĩ ở Maryland, những người cho rằng giá trị của cảng là không thể đong đếm được, khiến việc sửa chữa trở thành vấn đề mang tầm quan trọng quốc gia. Họ cho rằng chỉ chính phủ liên bang mới có đủ nguồn lực tài chính để hoàn thành nhiệm vụ này.\n",
      "\n",
      "Chưa rõ chi phí sửa chữa cây cầu là bao nhiêu, nhưng một số chuyên gia đưa ra con số ước tính từ 600 triệu USD tới hai tỷ USD, tùy thuộc vào thời gian thi công. Nhưng Tổng thống Biden bày tỏ tin tưởng rằng ông có thể giành được ủng hộ từ quốc hội cho đề xuất của mình.\n",
      "\n",
      "\"Ý định của tôi là chính phủ liên bang sẽ thanh toán toàn bộ chi phí xây dựng lại cây cầu và tôi mong quốc hội sẽ ủng hộ\", ông nói với các phóng viên tại Nhà Trắng.\n",
      "\n",
      "Hiện trường vụ tàu container đâm sập cầu Francis Scott Key ở Baltimore, Maryland, Mỹ, hôm 26/3. Ảnh: AFP\n",
      "\n",
      "Tuy nhiên, ý tưởng trên đã gây ra phản ứng dữ dội từ những người theo chủ nghĩa chi tiêu bảo thủ, vốn đã rất tức giận với việc quốc hội Mỹ gần đây thông qua gói ngân sách khổng lồ cho năm 2024. Họ cho rằng với mức thâm hụt ngân sách như hiện nay, chính phủ Mỹ không thể chất thêm tiền lên núi nợ quốc gia.\n",
      "\n",
      "\"Ý tưởng yêu cầu chính phủ liên bang chi tiền xây lại cầu ở Baltimore là hoàn toàn vô lý!\", nghị sĩ Cộng hòa Ralph Norman tuyên bố. \"Đây là minh chứng cho cách làm giật gấu vá vai\". Tuyên bố của Norman nhận được sự ủng hộ của nhiều thành viên đảng Cộng hòa, những người luôn phản đối tăng chi tiêu của chính phủ Mỹ.\n",
      "\n",
      "Một số người theo chủ nghĩa tự do trong đảng Dân chủ cũng đặt câu hỏi về đề xuất của Tổng thống Biden, cho rằng một phần nguyên nhân gây ra sự cố là do chủ tàu container, nên họ cũng phải có trách nhiệm trả chi phí sửa cầu.\n",
      "\n",
      "\"Hãy làm rõ về thảm kịch ở Baltimore. Cây cầu đó không tự nhiên sập. Không có trận động đất nào. Cây cầu đã bị sập bởi một con tàu tư nhân mất lái. Ít nhất họ cũng phải chịu trách nhiệm phần nào trong việc sửa chữa nó chứ?\", Jamal Simmons, chiến lược gia đảng Dân chủ, cựu giám đốc truyền thông của Phó tổng thống Kamala Harris, cho hay.\n",
      "\n",
      "Bộ trưởng Tài chính Janet Yellen hôm 27/3 nói rằng bà dự tính rằng các khoản thanh toán bảo hiểm sẽ trang trải một phần chi phí để xây dựng lại cây cầu. Các công ty bảo hiểm được cho là có thể phải bồi thường hàng tỷ USD cho những bên liên quan trong vụ tàu đâm sập cầu này.\n",
      "\n",
      "Cuộc tranh luận chắc chắn sẽ trở nên gay gắt hơn khi quốc hội Mỹ quay lại làm việc vào giữa tháng 4 sau kỳ nghỉ lễ dài. Vấn đề ngân sách sửa cầu sẽ được các nghị sĩ đưa ra mổ xẻ kỹ lưỡng, trong khi các lãnh đạo đảng phải vật lộn với một số vấn đề gai góc hơn, như viện trợ cho Ukraine và Israel.\n",
      "\n",
      "Các nghị sĩ Maryland cam kết sẽ đặt vấn đề nguồn tài trợ xây cầu làm ưu tiên hàng đầu trong phiên họp quốc hội sắp tới.\n",
      "\n",
      "\"Tôi không thể dự đoán chính xác khi nào quốc hội hành động, nhưng chúng tôi sẽ tiến hành công việc này ngay khi họp trở lại\", thượng nghị sĩ Dân chủ Chris Van Hollen nói hôm 28/3.\n",
      "\n",
      "Van Hollen, người đã đại diện cho Maryland tại quốc hội từ năm 2003, cho biết các bên liên quan đang đánh giá để xác định xem cần bao nhiêu tiền xây dựng lại cây cầu khổng lồ, cho hay con số ước tính sẽ được đưa ra trong vài ngày tới.\n",
      "\n",
      "Trong thời gian này, Maryland sẽ tìm kiếm nguồn lực từ quỹ khẩn cấp liên bang, sẽ chi trả khoảng 90% chi phí liên quan đến nỗ lực thay thế cây cầu. Theo thượng nghị sĩ, 10% còn lại sẽ được chi trả bởi quỹ chính phủ và ông cùng đồng nghiệp, thượng nghị sĩ Ben Cardin, đang nghiên cứu luật để chi trả phần đó.\n",
      "\n",
      "\"Đầu tiên, chúng ta phải biết được chi phí tổng thể là bao nhiêu, sau đó chúng tôi sẽ nhanh chóng đệ trình dự luật\", Van Hollen tuyên bố.\n",
      "\n",
      "Quốc hội Mỹ từng ít chia rẽ hơn sau một số sự cố trước đây. Khi cây cầu I-35 bị sập ở Minneapolis năm 2007, lưỡng viện quốc hội Mỹ đã thông qua nguồn tài trợ khẩn cấp để xây lại cầu và cựu tổng thống George W. Bush ký thành luật trong vòng một tuần.\n",
      "\n",
      "Những người bảo thủ phản đối ý tưởng của Tổng thống Biden vì cho rằng dồn thêm nguồn lực liên bang vào vấn đề này là không thỏa đáng. Hạ nghị sĩ Cộng hòa Dan Meuser gọi kế hoạch do ông chủ Nhà Trắng đề xuất là \"thái quá\".\n",
      "\n",
      "\"Ông ấy không coi đó là tiền đóng thuế của người dân Mỹ. Bạn biết đấy, phản ứng đầu tiên luôn là chi tiền\", Meuser nói hôm 28/3 trong một cuộc phỏng vấn với kênh Fox Business. \"Chúng ta không thể lúc nào cũng đi theo con đường dễ dàng và chỉ cố tiêu tiền của người đóng thuế\".\n",
      "\n",
      "Tàu container mất điện trước khi đâm vào cầu ở Mỹ Khoảnh khắc tàu Dali va chạm với cầu Francis Scott Key ngày 26/3. Video: X/uncoovr\n",
      "\n",
      "Trước sự phản đối từ phía cánh hữu, một số đảng viên Dân chủ đã bày tỏ lo ngại rằng quyết định chi ngân sách liên bang để khắc phục sự cố sập cầu sẽ khó qua ải quốc hội, bởi Maryland là một bang nghiêng về phe Dân chủ và phe Cộng hòa đang kiểm soát Hạ viện nhiều khả năng sẽ không mặn mà với ý tưởng lấy nguồn tiền từ quỹ khẩn cấp xây lại công trình.\n",
      "\n",
      "Một số nghị sĩ Dân chủ đã đưa ra ý tưởng gắn kinh phí xây cầu với gói viện trợ nước ngoài, trong đó có cả gói hỗ trợ quân sự mới cho Ukraine mà Chủ tịch Hạ viện Mike Johnson từng hứa sẽ đưa ra bỏ phiếu khi quốc hội nhóm họp trở lại.\n",
      "\n",
      "\"Thật khó hoàn thành bất cứ điều gì ở thời điểm hiện tại. Vì vậy, nếu chúng ta cần xây dựng lại cây cầu, tại sao không đưa nó vào một khoản viện trợ bổ sung lớn hơn\", nghị sĩ Dân chủ Jim Himes cho hay.\n",
      "\n",
      "Khi cuộc tranh luận ngày càng gay gắt, một số người Cộng hòa bất ngờ lên tiếng ủng hộ giải pháp chi ngân sách liên bang xây lại cầu.\n",
      "\n",
      "Nghị sĩ Cộng hòa Tim Burchett, người có quan điểm thắt chặt chi tiêu, lưu ý rằng chính phủ Mỹ nên can thiệp vì một tuyến cao tốc liên bang, do Bộ Giao thông Vận tải chịu trách nhiệm quản lý và bảo trì, đã bị phá hủy.\n",
      "\n",
      "Burchett lập luận rằng Washington cũng có lợi ích nhất định trong việc xây dựng lại cây cầu vì tầm quan trọng của cảng đối với thương mại quốc gia. Ông cho rằng đây nên là ưu tiên hàng đầu, trước khi nghĩ tới việc đòi tiền bồi thường.\n",
      "\n",
      "\"Suy nghĩ đầu tiên của tôi là chính phủ liên bang sẽ chi tiền để khôi phục tuyến giao thông huyết mạch này, còn tiền bảo hiểm sẽ thu sâu\", ông nói. \"Thương mại quốc gia sẽ bị ảnh hưởng nếu chúng ta không nhanh chóng hành động\".\n",
      "\n",
      "Vũ Hoàng (Theo Hill, AFP, Reuters)\n",
      "{'https://s1.vnecdn.net/vnexpress/restruct/c/v2615/v2_2019/pc/images/graphics/menu-myvne.svg', 'data:image/gif;base64,R0lGODlhAQABAAAAACH5BAEKAAEALAAAAAABAAEAAAICTAEAOw==', 'https://s1.vnecdn.net/vnexpress/restruct/i/v872/v2_2019/pc/graphics/logo.svg', 'https://iv1.vnecdn.net/vnexpress/images/web/2024/03/27/tau-container-mat-dien-truoc-khi-dam-vao-cau-o-my-1711527041.jpg?w=0&h=0&q=100&dpr=1&fit=crop&s=M-ATmLocYSX-CPKl-6T7ww', 'https://i2-vnexpress.vnecdn.net/2024/03/29/AFP2024032734MF2T9v1HighResUsT-9304-1409-1711685325.jpg?w=1200&h=0&q=100&dpr=1&fit=crop&s=UzaPPap9fxMS5lf3h_yCSg'}\n"
     ]
    }
   ],
   "source": [
    "from newspaper import Article\n",
    "\n",
    "article = Article('https://vnexpress.net/my-tranh-cai-ve-nguon-tien-sua-cau-bi-tau-container-dam-sap-4727941.html')\n",
    "\n",
    "article.download()\n",
    "article.parse()\n",
    "\n",
    "print(article.text)\n",
    "\n",
    "print(article.images)"
   ]
  },
  {
   "cell_type": "code",
   "execution_count": 13,
   "metadata": {},
   "outputs": [
    {
     "name": "stderr",
     "output_type": "stream",
     "text": [
      "[nltk_data] Downloading package punkt to\n",
      "[nltk_data]     C:\\Users\\vanna\\AppData\\Roaming\\nltk_data...\n",
      "[nltk_data]   Package punkt is already up-to-date!\n",
      "[nltk_data] Downloading package averaged_perceptron_tagger to\n",
      "[nltk_data]     C:\\Users\\vanna\\AppData\\Roaming\\nltk_data...\n"
     ]
    },
    {
     "name": "stdout",
     "output_type": "stream",
     "text": [
      "[('Tôi', 'NNP'), ('thích', 'NN'), ('học', 'NN'), ('AI', 'NNP'), ('và', 'NN'), ('toán', 'NN')]\n"
     ]
    },
    {
     "name": "stderr",
     "output_type": "stream",
     "text": [
      "[nltk_data]   Unzipping taggers\\averaged_perceptron_tagger.zip.\n"
     ]
    }
   ],
   "source": [
    "import nltk\n",
    "from nltk.tokenize import word_tokenize\n",
    "\n",
    "nltk.download(\"punkt\")\n",
    "nltk.download('averaged_perceptron_tagger')\n",
    "\n",
    "data = \"Tôi thích học AI và toán\"\n",
    "\n",
    "tokenization = word_tokenize(data)\n",
    "\n",
    "result = nltk.pos_tag(tokenization)\n",
    "print(result)"
   ]
  }
 ],
 "metadata": {
  "kernelspec": {
   "display_name": ".env",
   "language": "python",
   "name": "python3"
  },
  "language_info": {
   "codemirror_mode": {
    "name": "ipython",
    "version": 3
   },
   "file_extension": ".py",
   "mimetype": "text/x-python",
   "name": "python",
   "nbconvert_exporter": "python",
   "pygments_lexer": "ipython3",
   "version": "3.12.1"
  }
 },
 "nbformat": 4,
 "nbformat_minor": 2
}
