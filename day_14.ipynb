{
 "cells": [
  {
   "cell_type": "code",
   "execution_count": 1,
   "metadata": {},
   "outputs": [
    {
     "name": "stdout",
     "output_type": "stream",
     "text": [
      "array 1:\n",
      " [[ -2 -10 -10  -6]\n",
      " [ -1  -9  -7   0]\n",
      " [ -8 -10  -5   7]]\n",
      "array 2:\n",
      " [[ 5  0  4  5]\n",
      " [ 1 -3  8 -1]\n",
      " [-4  0 -9 -5]]\n",
      "array 2 sau khi chuyển vị:\n",
      " [[ 5  1 -4]\n",
      " [ 0 -3  0]\n",
      " [ 4  8 -9]\n",
      " [ 5 -1 -5]]\n",
      "Kết quả phép nhân arr_1 với  arr_2:\n",
      " [[-80 -46 128]\n",
      " [-33 -30  67]\n",
      " [-25 -25  42]]\n"
     ]
    }
   ],
   "source": [
    "# Numpy code\n",
    "import numpy as np\n",
    "\n",
    "np.random.seed(2024)\n",
    "\n",
    "arr_1 = np.random.randint(-10, 10, (3, 4))\n",
    "arr_2 = np.random.randint(-10, 10, (3, 4))\n",
    "\n",
    "arr2_transposed = np.transpose(arr_2)\n",
    "\n",
    "# Nhân ma trận\n",
    "result_matmul = np.matmul(arr_1, arr2_transposed)\n",
    "# In ra màn hình\n",
    "print(\"array 1:\\n\", arr_1)\n",
    "print(\"array 2:\\n\", arr_2)\n",
    "print(\"array 2 sau khi chuyển vị:\\n\", arr2_transposed)\n",
    "print(\"Kết quả phép nhân arr_1 với  arr_2:\\n\", result_matmul )\n"
   ]
  },
  {
   "cell_type": "code",
   "execution_count": 2,
   "metadata": {},
   "outputs": [
    {
     "name": "stdout",
     "output_type": "stream",
     "text": [
      "tensor 2:\n",
      " tensor([[  2,   0,  -6, -10],\n",
      "        [ -7, -10,   0,   1],\n",
      "        [  3,   9,   7,  -6]])\n",
      "tensor 2:\n",
      " tensor([[  1,   8,   0,  -2],\n",
      "        [ -9, -10,  -9,   0],\n",
      "        [ -3,  -7,  -4,   8]])\n",
      "tensor 2 sau khi chuyển vị:\n",
      " tensor([[  1,  -9,  -3],\n",
      "        [  8, -10,  -7],\n",
      "        [  0,  -9,  -4],\n",
      "        [ -2,   0,   8]])\n",
      "Kết quả phép nhân tensor_1 với  tensor_2:\n",
      " tensor([[  22,   36,  -62],\n",
      "        [ -89,  163,   99],\n",
      "        [  87, -180, -148]])\n"
     ]
    }
   ],
   "source": [
    "# Pytorch code\n",
    "import torch\n",
    "torch.manual_seed(2024)\n",
    "\n",
    "\n",
    "tensor_1 = torch.randint(-10, 10, size=(3, 4))\n",
    "tensor_2 = torch.randint(-10, 10, size=(3, 4))\n",
    "\n",
    "tensor2_transposed = tensor_2.T\n",
    "\n",
    "# Nhân ma trận\n",
    "result_matmul = torch.matmul(tensor_1, tensor2_transposed)\n",
    "\n",
    "# In ra màn hình\n",
    "print(\"tensor 2:\\n\", tensor_1)\n",
    "print(\"tensor 2:\\n\", tensor_2)\n",
    "print(\"tensor 2 sau khi chuyển vị:\\n\", tensor2_transposed)\n",
    "print(\"Kết quả phép nhân tensor_1 với  tensor_2:\\n\", result_matmul )\n"
   ]
  },
  {
   "cell_type": "code",
   "execution_count": 5,
   "metadata": {},
   "outputs": [
    {
     "name": "stdout",
     "output_type": "stream",
     "text": [
      "tensor 1:\n",
      " tf.Tensor(\n",
      "[[-6 -2  0 -2]\n",
      " [ 4  4 -9  3]\n",
      " [ 7  1  2 -5]], shape=(3, 4), dtype=int32)\n",
      "tensor 2:\n",
      " tf.Tensor(\n",
      "[[-3 -7  9  3]\n",
      " [ 2 -5 -3 -5]\n",
      " [ 4 -3 -3  5]], shape=(3, 4), dtype=int32)\n",
      "tensor 2 sau khi chuyển vị:\n",
      " tf.Tensor(\n",
      "[[-6  4  7]\n",
      " [-2  4  1]\n",
      " [ 0 -9  2]\n",
      " [-2  3 -5]], shape=(4, 3), dtype=int32)\n",
      "Kết quả phép nhân tensor_1 với  tensor_2: tf.Tensor(\n",
      "[[ 44 -38 -34]\n",
      " [-38 122  -1]\n",
      " [-34  -1  79]], shape=(3, 3), dtype=int32)\n"
     ]
    }
   ],
   "source": [
    "# TensorFlow code\n",
    "import tensorflow as tf\n",
    "\n",
    "tf.random.set_seed(2024)\n",
    "\n",
    "tensor_1 = tf.random.uniform((3, 4), minval=-10, maxval=10, dtype=tf.dtypes.int32)\n",
    "tensor_2 = tf.random.uniform((3, 4), minval=-10, maxval=10, dtype=tf.dtypes.int32)\n",
    "\n",
    "tensor2_transposed = tf.transpose(tensor_1)\n",
    "\n",
    "result_matmul = tf.matmul(tensor_1, tensor2_transposed)\n",
    "\n",
    "print(\"tensor 1:\\n\", tensor_1)\n",
    "print(\"tensor 2:\\n\", tensor_2)\n",
    "print(\"tensor 2 sau khi chuyển vị:\\n\", tensor2_transposed)\n",
    "print(\"Kết quả phép nhân tensor_1 với  tensor_2:\", result_matmul)"
   ]
  },
  {
   "cell_type": "code",
   "execution_count": 6,
   "metadata": {},
   "outputs": [
    {
     "name": "stdout",
     "output_type": "stream",
     "text": [
      "Mảng:\n",
      " [[ -2 -10 -10]\n",
      " [ -6  -1  -9]\n",
      " [ -7   0  -8]]\n",
      "Tổng của tất cả các phần tử trong mảng:\n",
      " -53\n",
      "Tổng theo cột:\n",
      " [-15 -11 -27]\n",
      "Tổng theo hàng:\n",
      " [-22 -16 -15]\n"
     ]
    }
   ],
   "source": [
    "np.random.seed(2024)\n",
    "\n",
    "arr = np.random.randint(-10, 10, (3, 3))\n",
    "\n",
    "total_sum = np.sum(arr)\n",
    "\n",
    "column_sum = np.sum(arr, axis=0)\n",
    "\n",
    "row_sum = np.sum(arr, axis=1)\n",
    "\n",
    "print(\"Mảng:\\n\", arr)\n",
    "print(\"Tổng của tất cả các phần tử trong mảng:\\n\", total_sum)\n",
    "print(\"Tổng theo cột:\\n\", column_sum)\n",
    "print(\"Tổng theo hàng:\\n\", row_sum)\n"
   ]
  },
  {
   "cell_type": "code",
   "execution_count": 8,
   "metadata": {},
   "outputs": [
    {
     "name": "stdout",
     "output_type": "stream",
     "text": [
      "tensor:\n",
      " tensor([[  2,   0,  -6],\n",
      "        [-10,  -7, -10],\n",
      "        [  0,   1,   3]])\n",
      "Tổng các phần tử trong tensor:\n",
      " tensor(-27)\n",
      "Tổng theo cột:\n",
      " tensor([ -8,  -6, -13])\n",
      "Tổng theo hàng:\n",
      " tensor([ -4, -27,   4])\n"
     ]
    }
   ],
   "source": [
    "import torch\n",
    "torch.manual_seed(2024)\n",
    "\n",
    "tensor_1 = torch.randint(-10, 10, size=(3, 3))\n",
    "\n",
    "tensor_sum = torch.sum(tensor_1)\n",
    "\n",
    "tensor_sum_axis_0 = torch.sum(tensor_1, axis=0)\n",
    "\n",
    "tensor_sum_axis_1 = torch.sum(tensor_1, axis=1)\n",
    "\n",
    "print(\"tensor:\\n\", tensor_1)\n",
    "print(\"Tổng các phần tử trong tensor:\\n\", tensor_sum)\n",
    "print(\"Tổng theo cột:\\n\", tensor_sum_axis_0)\n",
    "print(\"Tổng theo hàng:\\n\", tensor_sum_axis_1)"
   ]
  },
  {
   "cell_type": "code",
   "execution_count": 9,
   "metadata": {},
   "outputs": [
    {
     "name": "stdout",
     "output_type": "stream",
     "text": [
      "tensor:\n",
      " tf.Tensor(\n",
      "[[-6 -2  0]\n",
      " [-2  4  4]\n",
      " [-9  3  7]], shape=(3, 3), dtype=int32)\n",
      "Tổng các phần tử trong tensor:\n",
      " tf.Tensor(-1, shape=(), dtype=int32)\n",
      "Tổng theo cột:\n",
      " tf.Tensor([-17   5  11], shape=(3,), dtype=int32)\n",
      "Tổng theo hàng:\n",
      " tf.Tensor([-8  6  1], shape=(3,), dtype=int32)\n"
     ]
    }
   ],
   "source": [
    "import tensorflow as tf\n",
    "tf.random.set_seed(2024)\n",
    "\n",
    "tensor_1 = tf.random.uniform((3, 3), minval=-10, maxval=10, dtype=tf.dtypes.int32)\n",
    "\n",
    "tensor_sum = tf.reduce_sum(tensor_1)\n",
    "\n",
    "tensor_sum_axis_0 = tf.reduce_sum(tensor_1, axis=0)\n",
    "\n",
    "tensor_sum_axis_1 = tf.reduce_sum(tensor_1, axis=1)\n",
    "\n",
    "print(\"tensor:\\n\", tensor_1)\n",
    "print(\"Tổng các phần tử trong tensor:\\n\", tensor_sum)\n",
    "print(\"Tổng theo cột:\\n\", tensor_sum_axis_0)\n",
    "print(\"Tổng theo hàng:\\n\", tensor_sum_axis_1)"
   ]
  }
 ],
 "metadata": {
  "kernelspec": {
   "display_name": "npt_env",
   "language": "python",
   "name": "python3"
  },
  "language_info": {
   "codemirror_mode": {
    "name": "ipython",
    "version": 3
   },
   "file_extension": ".py",
   "mimetype": "text/x-python",
   "name": "python",
   "nbconvert_exporter": "python",
   "pygments_lexer": "ipython3",
   "version": "3.12.1"
  }
 },
 "nbformat": 4,
 "nbformat_minor": 2
}
